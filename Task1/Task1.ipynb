{
 "cells": [
  {
   "cell_type": "markdown",
   "metadata": {},
   "source": [
    "## Quantium Virtual Internship - Retail Strategy and Analytics - Task 1"
   ]
  },
  {
   "cell_type": "markdown",
   "metadata": {},
   "source": [
    "This Jupyter notebook follows a solution scaffold converted from R for Python for the task provided."
   ]
  },
  {
   "cell_type": "code",
   "execution_count": 46,
   "metadata": {},
   "outputs": [],
   "source": [
    "import pandas as pd"
   ]
  },
  {
   "cell_type": "code",
   "execution_count": 47,
   "metadata": {},
   "outputs": [],
   "source": [
    "# Set up the dataframes\n",
    "purchase_behaviour_df = pd.read_csv(\"C:/Users/Jacqu/OneDrive/Documents/Employment/Quantium/QuantiumVEP/Task1/QVI_purchase_behaviour.csv\")\n",
    "transaction_data_df = pd.read_excel(\"C:/Users/Jacqu/OneDrive/Documents/Employment/Quantium/QuantiumVEP/Task1/QVI_transaction_data.xlsx\")"
   ]
  },
  {
   "cell_type": "markdown",
   "metadata": {},
   "source": [
    "### Exploratory Data Analysis"
   ]
  },
  {
   "cell_type": "markdown",
   "metadata": {},
   "source": [
    "Let's first examine the transaction data."
   ]
  },
  {
   "cell_type": "code",
   "execution_count": 48,
   "metadata": {},
   "outputs": [
    {
     "name": "stdout",
     "output_type": "stream",
     "text": [
      "Purchase Behvaiour Datatypes: \n",
      " LYLTY_CARD_NBR       int64\n",
      "LIFESTAGE           object\n",
      "PREMIUM_CUSTOMER    object\n",
      "dtype: object \n",
      "\n",
      "Transaction Data Datatypes: \n",
      " DATE                int64\n",
      "STORE_NBR           int64\n",
      "LYLTY_CARD_NBR      int64\n",
      "TXN_ID              int64\n",
      "PROD_NBR            int64\n",
      "PROD_NAME          object\n",
      "PROD_QTY            int64\n",
      "TOT_SALES         float64\n",
      "dtype: object\n"
     ]
    }
   ],
   "source": [
    "# Check if the columns that are expected to be numeric are in numeric form\n",
    "print(\"Purchase Behvaiour Datatypes: \\n\", purchase_behaviour_df.dtypes, \"\\n\")\n",
    "print(\"Transaction Data Datatypes: \\n\", transaction_data_df.dtypes)"
   ]
  },
  {
   "cell_type": "markdown",
   "metadata": {},
   "source": [
    "We know that if there is mixed datatypes, it will get stored as an object dtype. Thus, the numeric columns are all satisfactory, since they all int64 and float64 dtypes. it can be seen that the date data is stored in integer format, so let's convert it to date time. It is known that Excel dates begin on 30 Dec 1899, so we will use that as the origin."
   ]
  },
  {
   "cell_type": "code",
   "execution_count": 49,
   "metadata": {},
   "outputs": [
    {
     "data": {
      "text/plain": [
       "0   2019-05-19\n",
       "1   2019-05-16\n",
       "2   2019-05-16\n",
       "3   2018-08-20\n",
       "4   2019-05-17\n",
       "Name: DATE, dtype: datetime64[ns]"
      ]
     },
     "execution_count": 49,
     "metadata": {},
     "output_type": "execute_result"
    }
   ],
   "source": [
    "transaction_data_df[\"DATE\"] = pd.to_datetime(transaction_data_df[\"DATE\"], origin=\"1899-12-30\", unit=\"D\")\n",
    "\n",
    "# Check if the DATE column is now in the correct format:\n",
    "transaction_data_df[\"DATE\"].head()"
   ]
  },
  {
   "cell_type": "markdown",
   "metadata": {},
   "source": [
    "Okay so it is in the correct format. Next, let's see a summary of the PROD_NAME column."
   ]
  },
  {
   "cell_type": "code",
   "execution_count": 50,
   "metadata": {},
   "outputs": [
    {
     "data": {
      "text/plain": [
       "0         Old El Paso Salsa   Dip Tomato Mild 300g\n",
       "1         Smiths Crinkle Chips Salt & Vinegar 330g\n",
       "2            Grain Waves         Sweet Chilli 210g\n",
       "3          Doritos Corn Chip Mexican Jalapeno 150g\n",
       "4         Smiths Crinkle Chips Salt & Vinegar 330g\n",
       "                            ...                   \n",
       "264831        Thins Potato Chips  Hot & Spicy 175g\n",
       "264832    Smiths Thinly       Swt Chli&S/Cream175G\n",
       "264833              Pringles SourCream  Onion 134g\n",
       "264834            Dorito Corn Chp     Supreme 380g\n",
       "264835            Dorito Corn Chp     Supreme 380g\n",
       "Name: PROD_NAME, Length: 264836, dtype: object"
      ]
     },
     "execution_count": 50,
     "metadata": {},
     "output_type": "execute_result"
    }
   ],
   "source": [
    "transaction_data_df[\"PROD_NAME\"]"
   ]
  },
  {
   "cell_type": "markdown",
   "metadata": {},
   "source": [
    "So this definitely looks like we are looking at chips. Let's examine each word in PROD_NAME to see if there are any incorrect entries, such as products that are not chips."
   ]
  },
  {
   "cell_type": "code",
   "execution_count": 51,
   "metadata": {},
   "outputs": [
    {
     "data": {
      "text/html": [
       "<div>\n",
       "<style scoped>\n",
       "    .dataframe tbody tr th:only-of-type {\n",
       "        vertical-align: middle;\n",
       "    }\n",
       "\n",
       "    .dataframe tbody tr th {\n",
       "        vertical-align: top;\n",
       "    }\n",
       "\n",
       "    .dataframe thead th {\n",
       "        text-align: right;\n",
       "    }\n",
       "</style>\n",
       "<table border=\"1\" class=\"dataframe\">\n",
       "  <thead>\n",
       "    <tr style=\"text-align: right;\">\n",
       "      <th></th>\n",
       "      <th>words</th>\n",
       "    </tr>\n",
       "  </thead>\n",
       "  <tbody>\n",
       "    <tr>\n",
       "      <th>0</th>\n",
       "      <td>Old</td>\n",
       "    </tr>\n",
       "    <tr>\n",
       "      <th>1</th>\n",
       "      <td>El</td>\n",
       "    </tr>\n",
       "    <tr>\n",
       "      <th>2</th>\n",
       "      <td>Paso</td>\n",
       "    </tr>\n",
       "    <tr>\n",
       "      <th>3</th>\n",
       "      <td>Salsa</td>\n",
       "    </tr>\n",
       "    <tr>\n",
       "      <th>4</th>\n",
       "      <td>Dip</td>\n",
       "    </tr>\n",
       "  </tbody>\n",
       "</table>\n",
       "</div>"
      ],
      "text/plain": [
       "   words\n",
       "0    Old\n",
       "1     El\n",
       "2   Paso\n",
       "3  Salsa\n",
       "4    Dip"
      ]
     },
     "execution_count": 51,
     "metadata": {},
     "output_type": "execute_result"
    }
   ],
   "source": [
    "product_words = transaction_data_df[\"PROD_NAME\"].str.split(expand=True).stack().reset_index(drop=True)\n",
    "product_words_df = pd.DataFrame({\"words\": product_words})\n",
    "product_words_df.head()"
   ]
  },
  {
   "cell_type": "markdown",
   "metadata": {},
   "source": [
    "As we are only interested in words that will tell us if the product is chips or not, let's remove all words with digits and special characters such as '&' from our set of product words."
   ]
  },
  {
   "cell_type": "code",
   "execution_count": 52,
   "metadata": {},
   "outputs": [
    {
     "data": {
      "text/html": [
       "<div>\n",
       "<style scoped>\n",
       "    .dataframe tbody tr th:only-of-type {\n",
       "        vertical-align: middle;\n",
       "    }\n",
       "\n",
       "    .dataframe tbody tr th {\n",
       "        vertical-align: top;\n",
       "    }\n",
       "\n",
       "    .dataframe thead th {\n",
       "        text-align: right;\n",
       "    }\n",
       "</style>\n",
       "<table border=\"1\" class=\"dataframe\">\n",
       "  <thead>\n",
       "    <tr style=\"text-align: right;\">\n",
       "      <th></th>\n",
       "      <th>words</th>\n",
       "    </tr>\n",
       "  </thead>\n",
       "  <tbody>\n",
       "    <tr>\n",
       "      <th>0</th>\n",
       "      <td>Old</td>\n",
       "    </tr>\n",
       "    <tr>\n",
       "      <th>1</th>\n",
       "      <td>El</td>\n",
       "    </tr>\n",
       "    <tr>\n",
       "      <th>2</th>\n",
       "      <td>Paso</td>\n",
       "    </tr>\n",
       "    <tr>\n",
       "      <th>3</th>\n",
       "      <td>Salsa</td>\n",
       "    </tr>\n",
       "    <tr>\n",
       "      <th>4</th>\n",
       "      <td>Dip</td>\n",
       "    </tr>\n",
       "  </tbody>\n",
       "</table>\n",
       "</div>"
      ],
      "text/plain": [
       "   words\n",
       "0    Old\n",
       "1     El\n",
       "2   Paso\n",
       "3  Salsa\n",
       "4    Dip"
      ]
     },
     "execution_count": 52,
     "metadata": {},
     "output_type": "execute_result"
    }
   ],
   "source": [
    "import re\n",
    "product_words_df = product_words_df[~product_words_df[\"words\"].str.contains(r'\\d|[^\\w\\s]', regex=True)]\n",
    "product_words_df.head()"
   ]
  },
  {
   "cell_type": "markdown",
   "metadata": {},
   "source": [
    "Let's look at the most common words by counting the number of times a word appears and sorting the dataframe \n",
    "by this frequency in order of highest to lowest frequency."
   ]
  },
  {
   "cell_type": "code",
   "execution_count": 53,
   "metadata": {},
   "outputs": [
    {
     "data": {
      "text/html": [
       "<div>\n",
       "<style scoped>\n",
       "    .dataframe tbody tr th:only-of-type {\n",
       "        vertical-align: middle;\n",
       "    }\n",
       "\n",
       "    .dataframe tbody tr th {\n",
       "        vertical-align: top;\n",
       "    }\n",
       "\n",
       "    .dataframe thead th {\n",
       "        text-align: right;\n",
       "    }\n",
       "</style>\n",
       "<table border=\"1\" class=\"dataframe\">\n",
       "  <thead>\n",
       "    <tr style=\"text-align: right;\">\n",
       "      <th></th>\n",
       "      <th>words</th>\n",
       "      <th>Count</th>\n",
       "    </tr>\n",
       "  </thead>\n",
       "  <tbody>\n",
       "    <tr>\n",
       "      <th>28</th>\n",
       "      <td>Chips</td>\n",
       "      <td>49770</td>\n",
       "    </tr>\n",
       "    <tr>\n",
       "      <th>70</th>\n",
       "      <td>Kettle</td>\n",
       "      <td>41288</td>\n",
       "    </tr>\n",
       "    <tr>\n",
       "      <th>126</th>\n",
       "      <td>Smiths</td>\n",
       "      <td>28860</td>\n",
       "    </tr>\n",
       "    <tr>\n",
       "      <th>117</th>\n",
       "      <td>Salt</td>\n",
       "      <td>27976</td>\n",
       "    </tr>\n",
       "    <tr>\n",
       "      <th>18</th>\n",
       "      <td>Cheese</td>\n",
       "      <td>27890</td>\n",
       "    </tr>\n",
       "    <tr>\n",
       "      <th>106</th>\n",
       "      <td>Pringles</td>\n",
       "      <td>25102</td>\n",
       "    </tr>\n",
       "    <tr>\n",
       "      <th>52</th>\n",
       "      <td>Doritos</td>\n",
       "      <td>24962</td>\n",
       "    </tr>\n",
       "    <tr>\n",
       "      <th>41</th>\n",
       "      <td>Crinkle</td>\n",
       "      <td>23960</td>\n",
       "    </tr>\n",
       "    <tr>\n",
       "      <th>38</th>\n",
       "      <td>Corn</td>\n",
       "      <td>22063</td>\n",
       "    </tr>\n",
       "    <tr>\n",
       "      <th>92</th>\n",
       "      <td>Original</td>\n",
       "      <td>21560</td>\n",
       "    </tr>\n",
       "  </tbody>\n",
       "</table>\n",
       "</div>"
      ],
      "text/plain": [
       "        words  Count\n",
       "28      Chips  49770\n",
       "70     Kettle  41288\n",
       "126    Smiths  28860\n",
       "117      Salt  27976\n",
       "18     Cheese  27890\n",
       "106  Pringles  25102\n",
       "52    Doritos  24962\n",
       "41    Crinkle  23960\n",
       "38       Corn  22063\n",
       "92   Original  21560"
      ]
     },
     "execution_count": 53,
     "metadata": {},
     "output_type": "execute_result"
    }
   ],
   "source": [
    "word_counts = product_words_df.groupby(['words']).size().reset_index(name='Count').sort_values(['Count'], ascending=False)\n",
    "word_counts.head(10)"
   ]
  },
  {
   "cell_type": "markdown",
   "metadata": {},
   "source": [
    "There are also salsa products in the dataset but we are only interested in the chips category, so let's remove these."
   ]
  },
  {
   "cell_type": "code",
   "execution_count": 54,
   "metadata": {},
   "outputs": [],
   "source": [
    "# Convert PROD_NAME column to lowercase\n",
    "transaction_data_df[\"PROD_NAME\"] = transaction_data_df[\"PROD_NAME\"].str.lower()\n",
    "\n",
    "# Remove salsa products\n",
    "transaction_data_df= transaction_data_df[~transaction_data_df[\"PROD_NAME\"].str.contains(\"salsa\")]"
   ]
  },
  {
   "cell_type": "markdown",
   "metadata": {},
   "source": [
    "Next, we can use 'describe()' to check summary statistics such as mean, min and max values for each \n",
    "feature to see if there are any obvious outliers in the data, and if there are any nulls in any of\n",
    "the columns"
   ]
  },
  {
   "cell_type": "code",
   "execution_count": 55,
   "metadata": {},
   "outputs": [
    {
     "data": {
      "text/html": [
       "<div>\n",
       "<style scoped>\n",
       "    .dataframe tbody tr th:only-of-type {\n",
       "        vertical-align: middle;\n",
       "    }\n",
       "\n",
       "    .dataframe tbody tr th {\n",
       "        vertical-align: top;\n",
       "    }\n",
       "\n",
       "    .dataframe thead th {\n",
       "        text-align: right;\n",
       "    }\n",
       "</style>\n",
       "<table border=\"1\" class=\"dataframe\">\n",
       "  <thead>\n",
       "    <tr style=\"text-align: right;\">\n",
       "      <th></th>\n",
       "      <th>DATE</th>\n",
       "      <th>STORE_NBR</th>\n",
       "      <th>LYLTY_CARD_NBR</th>\n",
       "      <th>TXN_ID</th>\n",
       "      <th>PROD_NBR</th>\n",
       "      <th>PROD_QTY</th>\n",
       "      <th>TOT_SALES</th>\n",
       "    </tr>\n",
       "  </thead>\n",
       "  <tbody>\n",
       "    <tr>\n",
       "      <th>count</th>\n",
       "      <td>246742</td>\n",
       "      <td>246742.000000</td>\n",
       "      <td>2.467420e+05</td>\n",
       "      <td>2.467420e+05</td>\n",
       "      <td>246742.000000</td>\n",
       "      <td>246742.000000</td>\n",
       "      <td>246742.000000</td>\n",
       "    </tr>\n",
       "    <tr>\n",
       "      <th>mean</th>\n",
       "      <td>2018-12-30 01:19:01.211468288</td>\n",
       "      <td>135.051098</td>\n",
       "      <td>1.355310e+05</td>\n",
       "      <td>1.351311e+05</td>\n",
       "      <td>56.351789</td>\n",
       "      <td>1.908062</td>\n",
       "      <td>7.321322</td>\n",
       "    </tr>\n",
       "    <tr>\n",
       "      <th>min</th>\n",
       "      <td>2018-07-01 00:00:00</td>\n",
       "      <td>1.000000</td>\n",
       "      <td>1.000000e+03</td>\n",
       "      <td>1.000000e+00</td>\n",
       "      <td>1.000000</td>\n",
       "      <td>1.000000</td>\n",
       "      <td>1.700000</td>\n",
       "    </tr>\n",
       "    <tr>\n",
       "      <th>25%</th>\n",
       "      <td>2018-09-30 00:00:00</td>\n",
       "      <td>70.000000</td>\n",
       "      <td>7.001500e+04</td>\n",
       "      <td>6.756925e+04</td>\n",
       "      <td>26.000000</td>\n",
       "      <td>2.000000</td>\n",
       "      <td>5.800000</td>\n",
       "    </tr>\n",
       "    <tr>\n",
       "      <th>50%</th>\n",
       "      <td>2018-12-30 00:00:00</td>\n",
       "      <td>130.000000</td>\n",
       "      <td>1.303670e+05</td>\n",
       "      <td>1.351830e+05</td>\n",
       "      <td>53.000000</td>\n",
       "      <td>2.000000</td>\n",
       "      <td>7.400000</td>\n",
       "    </tr>\n",
       "    <tr>\n",
       "      <th>75%</th>\n",
       "      <td>2019-03-31 00:00:00</td>\n",
       "      <td>203.000000</td>\n",
       "      <td>2.030840e+05</td>\n",
       "      <td>2.026538e+05</td>\n",
       "      <td>87.000000</td>\n",
       "      <td>2.000000</td>\n",
       "      <td>8.800000</td>\n",
       "    </tr>\n",
       "    <tr>\n",
       "      <th>max</th>\n",
       "      <td>2019-06-30 00:00:00</td>\n",
       "      <td>272.000000</td>\n",
       "      <td>2.373711e+06</td>\n",
       "      <td>2.415841e+06</td>\n",
       "      <td>114.000000</td>\n",
       "      <td>200.000000</td>\n",
       "      <td>650.000000</td>\n",
       "    </tr>\n",
       "    <tr>\n",
       "      <th>std</th>\n",
       "      <td>NaN</td>\n",
       "      <td>76.787096</td>\n",
       "      <td>8.071528e+04</td>\n",
       "      <td>7.814772e+04</td>\n",
       "      <td>33.695428</td>\n",
       "      <td>0.659831</td>\n",
       "      <td>3.077828</td>\n",
       "    </tr>\n",
       "  </tbody>\n",
       "</table>\n",
       "</div>"
      ],
      "text/plain": [
       "                                DATE      STORE_NBR  LYLTY_CARD_NBR  \\\n",
       "count                         246742  246742.000000    2.467420e+05   \n",
       "mean   2018-12-30 01:19:01.211468288     135.051098    1.355310e+05   \n",
       "min              2018-07-01 00:00:00       1.000000    1.000000e+03   \n",
       "25%              2018-09-30 00:00:00      70.000000    7.001500e+04   \n",
       "50%              2018-12-30 00:00:00     130.000000    1.303670e+05   \n",
       "75%              2019-03-31 00:00:00     203.000000    2.030840e+05   \n",
       "max              2019-06-30 00:00:00     272.000000    2.373711e+06   \n",
       "std                              NaN      76.787096    8.071528e+04   \n",
       "\n",
       "             TXN_ID       PROD_NBR       PROD_QTY      TOT_SALES  \n",
       "count  2.467420e+05  246742.000000  246742.000000  246742.000000  \n",
       "mean   1.351311e+05      56.351789       1.908062       7.321322  \n",
       "min    1.000000e+00       1.000000       1.000000       1.700000  \n",
       "25%    6.756925e+04      26.000000       2.000000       5.800000  \n",
       "50%    1.351830e+05      53.000000       2.000000       7.400000  \n",
       "75%    2.026538e+05      87.000000       2.000000       8.800000  \n",
       "max    2.415841e+06     114.000000     200.000000     650.000000  \n",
       "std    7.814772e+04      33.695428       0.659831       3.077828  "
      ]
     },
     "execution_count": 55,
     "metadata": {},
     "output_type": "execute_result"
    }
   ],
   "source": [
    "transaction_data_df.describe()"
   ]
  },
  {
   "cell_type": "markdown",
   "metadata": {},
   "source": [
    "There are no nulls in the columns but the product quantity appears to have an outlier which we should\n",
    "investigate further. Let's investigate further the case where 200 packets of chips are bought in one\n",
    "transaction."
   ]
  },
  {
   "cell_type": "code",
   "execution_count": 56,
   "metadata": {},
   "outputs": [
    {
     "data": {
      "text/html": [
       "<div>\n",
       "<style scoped>\n",
       "    .dataframe tbody tr th:only-of-type {\n",
       "        vertical-align: middle;\n",
       "    }\n",
       "\n",
       "    .dataframe tbody tr th {\n",
       "        vertical-align: top;\n",
       "    }\n",
       "\n",
       "    .dataframe thead th {\n",
       "        text-align: right;\n",
       "    }\n",
       "</style>\n",
       "<table border=\"1\" class=\"dataframe\">\n",
       "  <thead>\n",
       "    <tr style=\"text-align: right;\">\n",
       "      <th></th>\n",
       "      <th>DATE</th>\n",
       "      <th>STORE_NBR</th>\n",
       "      <th>LYLTY_CARD_NBR</th>\n",
       "      <th>TXN_ID</th>\n",
       "      <th>PROD_NBR</th>\n",
       "      <th>PROD_NAME</th>\n",
       "      <th>PROD_QTY</th>\n",
       "      <th>TOT_SALES</th>\n",
       "    </tr>\n",
       "  </thead>\n",
       "  <tbody>\n",
       "    <tr>\n",
       "      <th>264835</th>\n",
       "      <td>2019-05-20</td>\n",
       "      <td>226</td>\n",
       "      <td>226000</td>\n",
       "      <td>226210</td>\n",
       "      <td>4</td>\n",
       "      <td>dorito corn chp     supreme 380g</td>\n",
       "      <td>200</td>\n",
       "      <td>650.0</td>\n",
       "    </tr>\n",
       "    <tr>\n",
       "      <th>264834</th>\n",
       "      <td>2018-08-19</td>\n",
       "      <td>226</td>\n",
       "      <td>226000</td>\n",
       "      <td>226201</td>\n",
       "      <td>4</td>\n",
       "      <td>dorito corn chp     supreme 380g</td>\n",
       "      <td>200</td>\n",
       "      <td>650.0</td>\n",
       "    </tr>\n",
       "    <tr>\n",
       "      <th>264540</th>\n",
       "      <td>2018-08-15</td>\n",
       "      <td>195</td>\n",
       "      <td>195007</td>\n",
       "      <td>194847</td>\n",
       "      <td>51</td>\n",
       "      <td>doritos mexicana    170g</td>\n",
       "      <td>5</td>\n",
       "      <td>22.0</td>\n",
       "    </tr>\n",
       "    <tr>\n",
       "      <th>264527</th>\n",
       "      <td>2018-08-18</td>\n",
       "      <td>55</td>\n",
       "      <td>55144</td>\n",
       "      <td>49328</td>\n",
       "      <td>44</td>\n",
       "      <td>thins chips light&amp;  tangy 175g</td>\n",
       "      <td>5</td>\n",
       "      <td>16.5</td>\n",
       "    </tr>\n",
       "    <tr>\n",
       "      <th>264528</th>\n",
       "      <td>2019-05-15</td>\n",
       "      <td>71</td>\n",
       "      <td>71142</td>\n",
       "      <td>69852</td>\n",
       "      <td>96</td>\n",
       "      <td>ww original stacked chips 160g</td>\n",
       "      <td>5</td>\n",
       "      <td>9.5</td>\n",
       "    </tr>\n",
       "  </tbody>\n",
       "</table>\n",
       "</div>"
      ],
      "text/plain": [
       "             DATE  STORE_NBR  LYLTY_CARD_NBR  TXN_ID  PROD_NBR  \\\n",
       "264835 2019-05-20        226          226000  226210         4   \n",
       "264834 2018-08-19        226          226000  226201         4   \n",
       "264540 2018-08-15        195          195007  194847        51   \n",
       "264527 2018-08-18         55           55144   49328        44   \n",
       "264528 2019-05-15         71           71142   69852        96   \n",
       "\n",
       "                               PROD_NAME  PROD_QTY  TOT_SALES  \n",
       "264835  dorito corn chp     supreme 380g       200      650.0  \n",
       "264834  dorito corn chp     supreme 380g       200      650.0  \n",
       "264540          doritos mexicana    170g         5       22.0  \n",
       "264527    thins chips light&  tangy 175g         5       16.5  \n",
       "264528    ww original stacked chips 160g         5        9.5  "
      ]
     },
     "execution_count": 56,
     "metadata": {},
     "output_type": "execute_result"
    }
   ],
   "source": [
    "transaction_data_df.sort_values(by=['PROD_QTY'], ascending=False).head()"
   ]
  },
  {
   "cell_type": "markdown",
   "metadata": {},
   "source": [
    "There are two transactions where 200 packets of chips are bought in one transaction and both of \n",
    "these transactions were made by the same customer. Let's see if the customer has had any other\n",
    "transactions."
   ]
  },
  {
   "cell_type": "code",
   "execution_count": 57,
   "metadata": {},
   "outputs": [
    {
     "data": {
      "text/html": [
       "<div>\n",
       "<style scoped>\n",
       "    .dataframe tbody tr th:only-of-type {\n",
       "        vertical-align: middle;\n",
       "    }\n",
       "\n",
       "    .dataframe tbody tr th {\n",
       "        vertical-align: top;\n",
       "    }\n",
       "\n",
       "    .dataframe thead th {\n",
       "        text-align: right;\n",
       "    }\n",
       "</style>\n",
       "<table border=\"1\" class=\"dataframe\">\n",
       "  <thead>\n",
       "    <tr style=\"text-align: right;\">\n",
       "      <th></th>\n",
       "      <th>DATE</th>\n",
       "      <th>STORE_NBR</th>\n",
       "      <th>LYLTY_CARD_NBR</th>\n",
       "      <th>TXN_ID</th>\n",
       "      <th>PROD_NBR</th>\n",
       "      <th>PROD_NAME</th>\n",
       "      <th>PROD_QTY</th>\n",
       "      <th>TOT_SALES</th>\n",
       "    </tr>\n",
       "  </thead>\n",
       "  <tbody>\n",
       "    <tr>\n",
       "      <th>264834</th>\n",
       "      <td>2018-08-19</td>\n",
       "      <td>226</td>\n",
       "      <td>226000</td>\n",
       "      <td>226201</td>\n",
       "      <td>4</td>\n",
       "      <td>dorito corn chp     supreme 380g</td>\n",
       "      <td>200</td>\n",
       "      <td>650.0</td>\n",
       "    </tr>\n",
       "    <tr>\n",
       "      <th>264835</th>\n",
       "      <td>2019-05-20</td>\n",
       "      <td>226</td>\n",
       "      <td>226000</td>\n",
       "      <td>226210</td>\n",
       "      <td>4</td>\n",
       "      <td>dorito corn chp     supreme 380g</td>\n",
       "      <td>200</td>\n",
       "      <td>650.0</td>\n",
       "    </tr>\n",
       "  </tbody>\n",
       "</table>\n",
       "</div>"
      ],
      "text/plain": [
       "             DATE  STORE_NBR  LYLTY_CARD_NBR  TXN_ID  PROD_NBR  \\\n",
       "264834 2018-08-19        226          226000  226201         4   \n",
       "264835 2019-05-20        226          226000  226210         4   \n",
       "\n",
       "                               PROD_NAME  PROD_QTY  TOT_SALES  \n",
       "264834  dorito corn chp     supreme 380g       200      650.0  \n",
       "264835  dorito corn chp     supreme 380g       200      650.0  "
      ]
     },
     "execution_count": 57,
     "metadata": {},
     "output_type": "execute_result"
    }
   ],
   "source": [
    "transaction_data_df.loc[transaction_data_df['LYLTY_CARD_NBR'] == 226000]"
   ]
  },
  {
   "cell_type": "markdown",
   "metadata": {},
   "source": [
    "It looks like this customer has only had the two transactions over the year and is\n",
    "not an ordinary retail customer. The customer might be buying chips for commercial\n",
    "purposes instead. We'll remove this loyalty card number from further analysis."
   ]
  },
  {
   "cell_type": "code",
   "execution_count": 58,
   "metadata": {},
   "outputs": [],
   "source": [
    "transaction_data_df = transaction_data_df.drop(transaction_data_df[transaction_data_df['LYLTY_CARD_NBR'] == 226000].index)"
   ]
  },
  {
   "cell_type": "code",
   "execution_count": 59,
   "metadata": {},
   "outputs": [
    {
     "data": {
      "text/html": [
       "<div>\n",
       "<style scoped>\n",
       "    .dataframe tbody tr th:only-of-type {\n",
       "        vertical-align: middle;\n",
       "    }\n",
       "\n",
       "    .dataframe tbody tr th {\n",
       "        vertical-align: top;\n",
       "    }\n",
       "\n",
       "    .dataframe thead th {\n",
       "        text-align: right;\n",
       "    }\n",
       "</style>\n",
       "<table border=\"1\" class=\"dataframe\">\n",
       "  <thead>\n",
       "    <tr style=\"text-align: right;\">\n",
       "      <th></th>\n",
       "      <th>DATE</th>\n",
       "      <th>STORE_NBR</th>\n",
       "      <th>LYLTY_CARD_NBR</th>\n",
       "      <th>TXN_ID</th>\n",
       "      <th>PROD_NBR</th>\n",
       "      <th>PROD_NAME</th>\n",
       "      <th>PROD_QTY</th>\n",
       "      <th>TOT_SALES</th>\n",
       "    </tr>\n",
       "  </thead>\n",
       "  <tbody>\n",
       "    <tr>\n",
       "      <th>264833</th>\n",
       "      <td>2019-05-14</td>\n",
       "      <td>264</td>\n",
       "      <td>264149</td>\n",
       "      <td>262909</td>\n",
       "      <td>25</td>\n",
       "      <td>pringles sourcream  onion 134g</td>\n",
       "      <td>5</td>\n",
       "      <td>18.5</td>\n",
       "    </tr>\n",
       "    <tr>\n",
       "      <th>264609</th>\n",
       "      <td>2018-08-17</td>\n",
       "      <td>168</td>\n",
       "      <td>168189</td>\n",
       "      <td>170528</td>\n",
       "      <td>10</td>\n",
       "      <td>rrd sr slow rst     pork belly 150g</td>\n",
       "      <td>5</td>\n",
       "      <td>13.5</td>\n",
       "    </tr>\n",
       "    <tr>\n",
       "      <th>264527</th>\n",
       "      <td>2018-08-18</td>\n",
       "      <td>55</td>\n",
       "      <td>55144</td>\n",
       "      <td>49328</td>\n",
       "      <td>44</td>\n",
       "      <td>thins chips light&amp;  tangy 175g</td>\n",
       "      <td>5</td>\n",
       "      <td>16.5</td>\n",
       "    </tr>\n",
       "    <tr>\n",
       "      <th>264528</th>\n",
       "      <td>2019-05-15</td>\n",
       "      <td>71</td>\n",
       "      <td>71142</td>\n",
       "      <td>69852</td>\n",
       "      <td>96</td>\n",
       "      <td>ww original stacked chips 160g</td>\n",
       "      <td>5</td>\n",
       "      <td>9.5</td>\n",
       "    </tr>\n",
       "    <tr>\n",
       "      <th>264529</th>\n",
       "      <td>2019-05-16</td>\n",
       "      <td>86</td>\n",
       "      <td>86071</td>\n",
       "      <td>84571</td>\n",
       "      <td>103</td>\n",
       "      <td>rrd steak &amp;         chimuchurri 150g</td>\n",
       "      <td>5</td>\n",
       "      <td>13.5</td>\n",
       "    </tr>\n",
       "    <tr>\n",
       "      <th>264530</th>\n",
       "      <td>2019-05-16</td>\n",
       "      <td>86</td>\n",
       "      <td>86089</td>\n",
       "      <td>84699</td>\n",
       "      <td>38</td>\n",
       "      <td>infuzions mango     chutny papadums 70g</td>\n",
       "      <td>5</td>\n",
       "      <td>12.0</td>\n",
       "    </tr>\n",
       "    <tr>\n",
       "      <th>264531</th>\n",
       "      <td>2019-05-15</td>\n",
       "      <td>110</td>\n",
       "      <td>110250</td>\n",
       "      <td>113064</td>\n",
       "      <td>81</td>\n",
       "      <td>pringles original   crisps 134g</td>\n",
       "      <td>5</td>\n",
       "      <td>18.5</td>\n",
       "    </tr>\n",
       "    <tr>\n",
       "      <th>264532</th>\n",
       "      <td>2019-05-19</td>\n",
       "      <td>114</td>\n",
       "      <td>114008</td>\n",
       "      <td>116937</td>\n",
       "      <td>106</td>\n",
       "      <td>natural chipco      hony soy chckn175g</td>\n",
       "      <td>5</td>\n",
       "      <td>15.0</td>\n",
       "    </tr>\n",
       "    <tr>\n",
       "      <th>264534</th>\n",
       "      <td>2019-05-20</td>\n",
       "      <td>118</td>\n",
       "      <td>118126</td>\n",
       "      <td>121431</td>\n",
       "      <td>56</td>\n",
       "      <td>cheezels cheese box 125g</td>\n",
       "      <td>5</td>\n",
       "      <td>10.5</td>\n",
       "    </tr>\n",
       "    <tr>\n",
       "      <th>264535</th>\n",
       "      <td>2019-05-14</td>\n",
       "      <td>122</td>\n",
       "      <td>122207</td>\n",
       "      <td>125864</td>\n",
       "      <td>5</td>\n",
       "      <td>natural chip        compny seasalt175g</td>\n",
       "      <td>5</td>\n",
       "      <td>15.0</td>\n",
       "    </tr>\n",
       "  </tbody>\n",
       "</table>\n",
       "</div>"
      ],
      "text/plain": [
       "             DATE  STORE_NBR  LYLTY_CARD_NBR  TXN_ID  PROD_NBR  \\\n",
       "264833 2019-05-14        264          264149  262909        25   \n",
       "264609 2018-08-17        168          168189  170528        10   \n",
       "264527 2018-08-18         55           55144   49328        44   \n",
       "264528 2019-05-15         71           71142   69852        96   \n",
       "264529 2019-05-16         86           86071   84571       103   \n",
       "264530 2019-05-16         86           86089   84699        38   \n",
       "264531 2019-05-15        110          110250  113064        81   \n",
       "264532 2019-05-19        114          114008  116937       106   \n",
       "264534 2019-05-20        118          118126  121431        56   \n",
       "264535 2019-05-14        122          122207  125864         5   \n",
       "\n",
       "                                      PROD_NAME  PROD_QTY  TOT_SALES  \n",
       "264833           pringles sourcream  onion 134g         5       18.5  \n",
       "264609      rrd sr slow rst     pork belly 150g         5       13.5  \n",
       "264527           thins chips light&  tangy 175g         5       16.5  \n",
       "264528           ww original stacked chips 160g         5        9.5  \n",
       "264529     rrd steak &         chimuchurri 150g         5       13.5  \n",
       "264530  infuzions mango     chutny papadums 70g         5       12.0  \n",
       "264531          pringles original   crisps 134g         5       18.5  \n",
       "264532   natural chipco      hony soy chckn175g         5       15.0  \n",
       "264534                 cheezels cheese box 125g         5       10.5  \n",
       "264535   natural chip        compny seasalt175g         5       15.0  "
      ]
     },
     "execution_count": 59,
     "metadata": {},
     "output_type": "execute_result"
    }
   ],
   "source": [
    "transaction_data_df.sort_values(by=['PROD_QTY'], ascending=False).head(10)"
   ]
  },
  {
   "cell_type": "markdown",
   "metadata": {},
   "source": [
    "That's better. Now, let's look at the number of transaction lines over time to see\n",
    "if there are any obvious data issues such as missing data."
   ]
  },
  {
   "cell_type": "code",
   "execution_count": 60,
   "metadata": {},
   "outputs": [
    {
     "name": "stdout",
     "output_type": "stream",
     "text": [
      "DATE     364\n",
      "Count    364\n",
      "dtype: int64\n"
     ]
    },
    {
     "data": {
      "text/html": [
       "<div>\n",
       "<style scoped>\n",
       "    .dataframe tbody tr th:only-of-type {\n",
       "        vertical-align: middle;\n",
       "    }\n",
       "\n",
       "    .dataframe tbody tr th {\n",
       "        vertical-align: top;\n",
       "    }\n",
       "\n",
       "    .dataframe thead th {\n",
       "        text-align: right;\n",
       "    }\n",
       "</style>\n",
       "<table border=\"1\" class=\"dataframe\">\n",
       "  <thead>\n",
       "    <tr style=\"text-align: right;\">\n",
       "      <th></th>\n",
       "      <th>DATE</th>\n",
       "      <th>Count</th>\n",
       "    </tr>\n",
       "  </thead>\n",
       "  <tbody>\n",
       "    <tr>\n",
       "      <th>176</th>\n",
       "      <td>2018-12-24</td>\n",
       "      <td>865</td>\n",
       "    </tr>\n",
       "    <tr>\n",
       "      <th>175</th>\n",
       "      <td>2018-12-23</td>\n",
       "      <td>853</td>\n",
       "    </tr>\n",
       "    <tr>\n",
       "      <th>174</th>\n",
       "      <td>2018-12-22</td>\n",
       "      <td>840</td>\n",
       "    </tr>\n",
       "    <tr>\n",
       "      <th>171</th>\n",
       "      <td>2018-12-19</td>\n",
       "      <td>839</td>\n",
       "    </tr>\n",
       "    <tr>\n",
       "      <th>172</th>\n",
       "      <td>2018-12-20</td>\n",
       "      <td>808</td>\n",
       "    </tr>\n",
       "  </tbody>\n",
       "</table>\n",
       "</div>"
      ],
      "text/plain": [
       "          DATE  Count\n",
       "176 2018-12-24    865\n",
       "175 2018-12-23    853\n",
       "174 2018-12-22    840\n",
       "171 2018-12-19    839\n",
       "172 2018-12-20    808"
      ]
     },
     "execution_count": 60,
     "metadata": {},
     "output_type": "execute_result"
    }
   ],
   "source": [
    "date_counts = transaction_data_df.groupby(['DATE']).size().reset_index(name='Count').sort_values(['Count'], ascending=False)\n",
    "print(date_counts.count())\n",
    "date_counts.head()"
   ]
  },
  {
   "cell_type": "markdown",
   "metadata": {},
   "source": [
    "There's only 364 rows, meaning only 364 dates which indicates a missing date. Let's\n",
    "create a sequence of dates from 1 Jul 2018 to 30 Jun 2019 and use this to create a\n",
    "chart of number of transactions over time to find the missing date."
   ]
  },
  {
   "cell_type": "code",
   "execution_count": 61,
   "metadata": {},
   "outputs": [
    {
     "data": {
      "text/html": [
       "<div>\n",
       "<style scoped>\n",
       "    .dataframe tbody tr th:only-of-type {\n",
       "        vertical-align: middle;\n",
       "    }\n",
       "\n",
       "    .dataframe tbody tr th {\n",
       "        vertical-align: top;\n",
       "    }\n",
       "\n",
       "    .dataframe thead th {\n",
       "        text-align: right;\n",
       "    }\n",
       "</style>\n",
       "<table border=\"1\" class=\"dataframe\">\n",
       "  <thead>\n",
       "    <tr style=\"text-align: right;\">\n",
       "      <th></th>\n",
       "      <th>DATE</th>\n",
       "      <th>Count</th>\n",
       "    </tr>\n",
       "  </thead>\n",
       "  <tbody>\n",
       "    <tr>\n",
       "      <th>0</th>\n",
       "      <td>2018-07-01</td>\n",
       "      <td>663</td>\n",
       "    </tr>\n",
       "    <tr>\n",
       "      <th>1</th>\n",
       "      <td>2018-07-02</td>\n",
       "      <td>650</td>\n",
       "    </tr>\n",
       "    <tr>\n",
       "      <th>2</th>\n",
       "      <td>2018-07-03</td>\n",
       "      <td>674</td>\n",
       "    </tr>\n",
       "    <tr>\n",
       "      <th>3</th>\n",
       "      <td>2018-07-04</td>\n",
       "      <td>669</td>\n",
       "    </tr>\n",
       "    <tr>\n",
       "      <th>4</th>\n",
       "      <td>2018-07-05</td>\n",
       "      <td>660</td>\n",
       "    </tr>\n",
       "    <tr>\n",
       "      <th>...</th>\n",
       "      <td>...</td>\n",
       "      <td>...</td>\n",
       "    </tr>\n",
       "    <tr>\n",
       "      <th>359</th>\n",
       "      <td>2019-06-26</td>\n",
       "      <td>657</td>\n",
       "    </tr>\n",
       "    <tr>\n",
       "      <th>360</th>\n",
       "      <td>2019-06-27</td>\n",
       "      <td>669</td>\n",
       "    </tr>\n",
       "    <tr>\n",
       "      <th>361</th>\n",
       "      <td>2019-06-28</td>\n",
       "      <td>673</td>\n",
       "    </tr>\n",
       "    <tr>\n",
       "      <th>362</th>\n",
       "      <td>2019-06-29</td>\n",
       "      <td>703</td>\n",
       "    </tr>\n",
       "    <tr>\n",
       "      <th>363</th>\n",
       "      <td>2019-06-30</td>\n",
       "      <td>704</td>\n",
       "    </tr>\n",
       "  </tbody>\n",
       "</table>\n",
       "<p>364 rows × 2 columns</p>\n",
       "</div>"
      ],
      "text/plain": [
       "          DATE  Count\n",
       "0   2018-07-01    663\n",
       "1   2018-07-02    650\n",
       "2   2018-07-03    674\n",
       "3   2018-07-04    669\n",
       "4   2018-07-05    660\n",
       "..         ...    ...\n",
       "359 2019-06-26    657\n",
       "360 2019-06-27    669\n",
       "361 2019-06-28    673\n",
       "362 2019-06-29    703\n",
       "363 2019-06-30    704\n",
       "\n",
       "[364 rows x 2 columns]"
      ]
     },
     "execution_count": 61,
     "metadata": {},
     "output_type": "execute_result"
    }
   ],
   "source": [
    "date_counts.sort_values(by=['DATE'], ascending=True)"
   ]
  },
  {
   "cell_type": "code",
   "execution_count": 62,
   "metadata": {},
   "outputs": [
    {
     "data": {
      "image/png": "[encoded data removed]",
      "text/plain": [
       "<Figure size 640x480 with 1 Axes>"
      ]
     },
     "metadata": {},
     "output_type": "display_data"
    }
   ],
   "source": [
    "import matplotlib.pyplot as plt\n",
    "date_counts.plot(x = 'DATE', y = 'Count')\n",
    "plt.title('Transactions over time')\n",
    "plt.xlabel('Date')\n",
    "plt.ylabel('Number of Transactions')\n",
    "plt.show()"
   ]
  },
  {
   "cell_type": "markdown",
   "metadata": {},
   "source": [
    "We can see that there is an increase in purchases in December and a break in late\n",
    "December. Let's zoom in on this."
   ]
  },
  {
   "cell_type": "code",
   "execution_count": 63,
   "metadata": {},
   "outputs": [
    {
     "data": {
      "image/png": "[encoded data removed]",
      "text/plain": [
       "<Figure size 640x480 with 1 Axes>"
      ]
     },
     "metadata": {},
     "output_type": "display_data"
    }
   ],
   "source": [
    "ax = date_counts.plot(x = 'DATE', y = 'Count')\n",
    "plt.title('Transactions over time')\n",
    "plt.xlabel('Date')\n",
    "plt.ylabel('Number of Transactions')\n",
    "start_date = pd.to_datetime('2018-12-01')\n",
    "end_date = pd.to_datetime('2019-01-01')\n",
    "ax.set_xlim(start_date, end_date)\n",
    "plt.show()"
   ]
  },
  {
   "cell_type": "markdown",
   "metadata": {},
   "source": [
    "We can see that the increase in sales occurs in the lead-up to Christmas and that\n",
    "there are zero sales on Christmas day itself. This is due to shops being closed on\n",
    "Christmas day.\n",
    "Now that we are satisfied that the data no longer has outliers, we can move on to\n",
    "creating other features such as brand of chips or pack size from PROD_NAME. We will\n",
    "start with pack size."
   ]
  },
  {
   "cell_type": "code",
   "execution_count": 64,
   "metadata": {},
   "outputs": [
    {
     "data": {
      "text/html": [
       "<div>\n",
       "<style scoped>\n",
       "    .dataframe tbody tr th:only-of-type {\n",
       "        vertical-align: middle;\n",
       "    }\n",
       "\n",
       "    .dataframe tbody tr th {\n",
       "        vertical-align: top;\n",
       "    }\n",
       "\n",
       "    .dataframe thead th {\n",
       "        text-align: right;\n",
       "    }\n",
       "</style>\n",
       "<table border=\"1\" class=\"dataframe\">\n",
       "  <thead>\n",
       "    <tr style=\"text-align: right;\">\n",
       "      <th></th>\n",
       "      <th>DATE</th>\n",
       "      <th>STORE_NBR</th>\n",
       "      <th>LYLTY_CARD_NBR</th>\n",
       "      <th>TXN_ID</th>\n",
       "      <th>PROD_NBR</th>\n",
       "      <th>PROD_NAME</th>\n",
       "      <th>PROD_QTY</th>\n",
       "      <th>TOT_SALES</th>\n",
       "      <th>PACK_SIZE</th>\n",
       "    </tr>\n",
       "  </thead>\n",
       "  <tbody>\n",
       "    <tr>\n",
       "      <th>1</th>\n",
       "      <td>2019-05-16</td>\n",
       "      <td>4</td>\n",
       "      <td>4149</td>\n",
       "      <td>3333</td>\n",
       "      <td>16</td>\n",
       "      <td>smiths crinkle chips salt &amp; vinegar 330g</td>\n",
       "      <td>1</td>\n",
       "      <td>5.7</td>\n",
       "      <td>330</td>\n",
       "    </tr>\n",
       "    <tr>\n",
       "      <th>2</th>\n",
       "      <td>2019-05-16</td>\n",
       "      <td>4</td>\n",
       "      <td>4196</td>\n",
       "      <td>3539</td>\n",
       "      <td>24</td>\n",
       "      <td>grain waves         sweet chilli 210g</td>\n",
       "      <td>1</td>\n",
       "      <td>3.6</td>\n",
       "      <td>210</td>\n",
       "    </tr>\n",
       "    <tr>\n",
       "      <th>3</th>\n",
       "      <td>2018-08-20</td>\n",
       "      <td>5</td>\n",
       "      <td>5026</td>\n",
       "      <td>4525</td>\n",
       "      <td>42</td>\n",
       "      <td>doritos corn chip mexican jalapeno 150g</td>\n",
       "      <td>1</td>\n",
       "      <td>3.9</td>\n",
       "      <td>150</td>\n",
       "    </tr>\n",
       "    <tr>\n",
       "      <th>4</th>\n",
       "      <td>2019-05-17</td>\n",
       "      <td>7</td>\n",
       "      <td>7215</td>\n",
       "      <td>7176</td>\n",
       "      <td>16</td>\n",
       "      <td>smiths crinkle chips salt &amp; vinegar 330g</td>\n",
       "      <td>1</td>\n",
       "      <td>5.7</td>\n",
       "      <td>330</td>\n",
       "    </tr>\n",
       "    <tr>\n",
       "      <th>5</th>\n",
       "      <td>2018-08-17</td>\n",
       "      <td>13</td>\n",
       "      <td>13213</td>\n",
       "      <td>12447</td>\n",
       "      <td>92</td>\n",
       "      <td>ww crinkle cut      chicken 175g</td>\n",
       "      <td>1</td>\n",
       "      <td>1.7</td>\n",
       "      <td>175</td>\n",
       "    </tr>\n",
       "  </tbody>\n",
       "</table>\n",
       "</div>"
      ],
      "text/plain": [
       "        DATE  STORE_NBR  LYLTY_CARD_NBR  TXN_ID  PROD_NBR  \\\n",
       "1 2019-05-16          4            4149    3333        16   \n",
       "2 2019-05-16          4            4196    3539        24   \n",
       "3 2018-08-20          5            5026    4525        42   \n",
       "4 2019-05-17          7            7215    7176        16   \n",
       "5 2018-08-17         13           13213   12447        92   \n",
       "\n",
       "                                  PROD_NAME  PROD_QTY  TOT_SALES  PACK_SIZE  \n",
       "1  smiths crinkle chips salt & vinegar 330g         1        5.7        330  \n",
       "2     grain waves         sweet chilli 210g         1        3.6        210  \n",
       "3   doritos corn chip mexican jalapeno 150g         1        3.9        150  \n",
       "4  smiths crinkle chips salt & vinegar 330g         1        5.7        330  \n",
       "5          ww crinkle cut      chicken 175g         1        1.7        175  "
      ]
     },
     "execution_count": 64,
     "metadata": {},
     "output_type": "execute_result"
    }
   ],
   "source": [
    "transaction_data_df['PACK_SIZE'] = transaction_data_df['PROD_NAME'].str.extract(\"(\\d+)\").astype(int)\n",
    "transaction_data_df.head(5)"
   ]
  },
  {
   "cell_type": "code",
   "execution_count": 65,
   "metadata": {},
   "outputs": [
    {
     "name": "stdout",
     "output_type": "stream",
     "text": [
      "Smallest size:  70 g\n",
      "Largest size:  380 g\n"
     ]
    }
   ],
   "source": [
    "print('Smallest size: ', transaction_data_df.min(axis=0)['PACK_SIZE'], 'g')\n",
    "print('Largest size: ', transaction_data_df.max(axis=0)['PACK_SIZE'], 'g')"
   ]
  },
  {
   "cell_type": "markdown",
   "metadata": {},
   "source": [
    "The largest size is 380g and the smallest size is 70g - seems sensible! Let's plot a histogram of PACK_SIZE since we know that it is a categorical variable and not a continuous variable even though it is numeric."
   ]
  },
  {
   "cell_type": "code",
   "execution_count": 66,
   "metadata": {},
   "outputs": [
    {
     "data": {
      "image/png": "[encoded data removed]",
      "text/plain": [
       "<Figure size 640x480 with 1 Axes>"
      ]
     },
     "metadata": {},
     "output_type": "display_data"
    }
   ],
   "source": [
    "transaction_data_df['PACK_SIZE'].hist()\n",
    "plt.title('Number of transactions by pack size')\n",
    "plt.xlabel('Pack Size (g)')\n",
    "plt.ylabel('Number of Transactions')\n",
    "plt.show()"
   ]
  },
  {
   "cell_type": "markdown",
   "metadata": {},
   "source": [
    "Pack sizes created look reasonable.\n",
    "Now to create brands, we can use the first word in PROD_NAME to work out the brand\n",
    "name..."
   ]
  },
  {
   "cell_type": "code",
   "execution_count": 67,
   "metadata": {},
   "outputs": [
    {
     "data": {
      "text/html": [
       "<div>\n",
       "<style scoped>\n",
       "    .dataframe tbody tr th:only-of-type {\n",
       "        vertical-align: middle;\n",
       "    }\n",
       "\n",
       "    .dataframe tbody tr th {\n",
       "        vertical-align: top;\n",
       "    }\n",
       "\n",
       "    .dataframe thead th {\n",
       "        text-align: right;\n",
       "    }\n",
       "</style>\n",
       "<table border=\"1\" class=\"dataframe\">\n",
       "  <thead>\n",
       "    <tr style=\"text-align: right;\">\n",
       "      <th></th>\n",
       "      <th>DATE</th>\n",
       "      <th>STORE_NBR</th>\n",
       "      <th>LYLTY_CARD_NBR</th>\n",
       "      <th>TXN_ID</th>\n",
       "      <th>PROD_NBR</th>\n",
       "      <th>PROD_NAME</th>\n",
       "      <th>PROD_QTY</th>\n",
       "      <th>TOT_SALES</th>\n",
       "      <th>PACK_SIZE</th>\n",
       "      <th>BRAND</th>\n",
       "    </tr>\n",
       "  </thead>\n",
       "  <tbody>\n",
       "    <tr>\n",
       "      <th>1</th>\n",
       "      <td>2019-05-16</td>\n",
       "      <td>4</td>\n",
       "      <td>4149</td>\n",
       "      <td>3333</td>\n",
       "      <td>16</td>\n",
       "      <td>smiths crinkle chips salt &amp; vinegar 330g</td>\n",
       "      <td>1</td>\n",
       "      <td>5.7</td>\n",
       "      <td>330</td>\n",
       "      <td>smiths</td>\n",
       "    </tr>\n",
       "    <tr>\n",
       "      <th>2</th>\n",
       "      <td>2019-05-16</td>\n",
       "      <td>4</td>\n",
       "      <td>4196</td>\n",
       "      <td>3539</td>\n",
       "      <td>24</td>\n",
       "      <td>grain waves         sweet chilli 210g</td>\n",
       "      <td>1</td>\n",
       "      <td>3.6</td>\n",
       "      <td>210</td>\n",
       "      <td>grain</td>\n",
       "    </tr>\n",
       "    <tr>\n",
       "      <th>3</th>\n",
       "      <td>2018-08-20</td>\n",
       "      <td>5</td>\n",
       "      <td>5026</td>\n",
       "      <td>4525</td>\n",
       "      <td>42</td>\n",
       "      <td>doritos corn chip mexican jalapeno 150g</td>\n",
       "      <td>1</td>\n",
       "      <td>3.9</td>\n",
       "      <td>150</td>\n",
       "      <td>doritos</td>\n",
       "    </tr>\n",
       "    <tr>\n",
       "      <th>4</th>\n",
       "      <td>2019-05-17</td>\n",
       "      <td>7</td>\n",
       "      <td>7215</td>\n",
       "      <td>7176</td>\n",
       "      <td>16</td>\n",
       "      <td>smiths crinkle chips salt &amp; vinegar 330g</td>\n",
       "      <td>1</td>\n",
       "      <td>5.7</td>\n",
       "      <td>330</td>\n",
       "      <td>smiths</td>\n",
       "    </tr>\n",
       "    <tr>\n",
       "      <th>5</th>\n",
       "      <td>2018-08-17</td>\n",
       "      <td>13</td>\n",
       "      <td>13213</td>\n",
       "      <td>12447</td>\n",
       "      <td>92</td>\n",
       "      <td>ww crinkle cut      chicken 175g</td>\n",
       "      <td>1</td>\n",
       "      <td>1.7</td>\n",
       "      <td>175</td>\n",
       "      <td>ww</td>\n",
       "    </tr>\n",
       "  </tbody>\n",
       "</table>\n",
       "</div>"
      ],
      "text/plain": [
       "        DATE  STORE_NBR  LYLTY_CARD_NBR  TXN_ID  PROD_NBR  \\\n",
       "1 2019-05-16          4            4149    3333        16   \n",
       "2 2019-05-16          4            4196    3539        24   \n",
       "3 2018-08-20          5            5026    4525        42   \n",
       "4 2019-05-17          7            7215    7176        16   \n",
       "5 2018-08-17         13           13213   12447        92   \n",
       "\n",
       "                                  PROD_NAME  PROD_QTY  TOT_SALES  PACK_SIZE  \\\n",
       "1  smiths crinkle chips salt & vinegar 330g         1        5.7        330   \n",
       "2     grain waves         sweet chilli 210g         1        3.6        210   \n",
       "3   doritos corn chip mexican jalapeno 150g         1        3.9        150   \n",
       "4  smiths crinkle chips salt & vinegar 330g         1        5.7        330   \n",
       "5          ww crinkle cut      chicken 175g         1        1.7        175   \n",
       "\n",
       "     BRAND  \n",
       "1   smiths  \n",
       "2    grain  \n",
       "3  doritos  \n",
       "4   smiths  \n",
       "5       ww  "
      ]
     },
     "execution_count": 67,
     "metadata": {},
     "output_type": "execute_result"
    }
   ],
   "source": [
    "transaction_data_df['BRAND'] = transaction_data_df['PROD_NAME'].str.split().str[0]\n",
    "transaction_data_df.head(5)"
   ]
  },
  {
   "cell_type": "markdown",
   "metadata": {},
   "source": [
    "Some of the brand names look like they are of the same brands - such as RED and RRD, which are both Red Rock Deli chips. Let's combine these together."
   ]
  },
  {
   "cell_type": "code",
   "execution_count": 68,
   "metadata": {},
   "outputs": [
    {
     "name": "stdout",
     "output_type": "stream",
     "text": [
      "['smiths' 'grain' 'doritos' 'ww' 'thins' 'ccs' 'ncc' 'cheezels' 'infzns'\n",
      " 'kettle' 'red' 'pringles' 'natural' 'dorito' 'twisties' 'infuzions'\n",
      " 'smith' 'tyrrells' 'cobs' 'french' 'rrd' 'tostitos' 'woolworths' 'snbts'\n",
      " 'cheetos' 'sunbites' 'burger' 'grnwves']\n"
     ]
    }
   ],
   "source": [
    "print(transaction_data_df['BRAND'].unique())"
   ]
  },
  {
   "cell_type": "markdown",
   "metadata": {},
   "source": [
    "Some of the brand names look like they are of the same brands - such as RED and\n",
    "RRD, which are both Red Rock Deli chips. Let's combine these together."
   ]
  },
  {
   "cell_type": "code",
   "execution_count": 69,
   "metadata": {},
   "outputs": [],
   "source": [
    "transaction_data_df = transaction_data_df.replace('rrd', 'red')\n",
    "transaction_data_df = transaction_data_df.replace('grnwves', 'grain')\n",
    "transaction_data_df = transaction_data_df.replace('ww', 'woolworths')\n",
    "transaction_data_df = transaction_data_df.replace('snbts', 'sunbites')\n",
    "transaction_data_df = transaction_data_df.replace('infzns', 'infuzions')"
   ]
  },
  {
   "cell_type": "code",
   "execution_count": 70,
   "metadata": {},
   "outputs": [
    {
     "name": "stdout",
     "output_type": "stream",
     "text": [
      "['smiths' 'grain' 'doritos' 'woolworths' 'thins' 'ccs' 'ncc' 'cheezels'\n",
      " 'infuzions' 'kettle' 'red' 'pringles' 'natural' 'dorito' 'twisties'\n",
      " 'smith' 'tyrrells' 'cobs' 'french' 'tostitos' 'sunbites' 'cheetos'\n",
      " 'burger']\n"
     ]
    }
   ],
   "source": [
    "print(transaction_data_df['BRAND'].unique())"
   ]
  },
  {
   "cell_type": "markdown",
   "metadata": {},
   "source": [
    "Next, let's have a look at the cusotmer data set."
   ]
  },
  {
   "cell_type": "code",
   "execution_count": 75,
   "metadata": {},
   "outputs": [
    {
     "name": "stdout",
     "output_type": "stream",
     "text": [
      "   LYLTY_CARD_NBR               LIFESTAGE PREMIUM_CUSTOMER\n",
      "0            1000   YOUNG SINGLES/COUPLES          Premium\n",
      "1            1002   YOUNG SINGLES/COUPLES       Mainstream\n",
      "2            1003          YOUNG FAMILIES           Budget\n",
      "3            1004   OLDER SINGLES/COUPLES       Mainstream\n",
      "4            1005  MIDAGE SINGLES/COUPLES       Mainstream\n",
      "5            1007   YOUNG SINGLES/COUPLES           Budget\n",
      "6            1009            NEW FAMILIES          Premium\n",
      "7            1010   YOUNG SINGLES/COUPLES       Mainstream\n",
      "8            1011   OLDER SINGLES/COUPLES       Mainstream\n",
      "9            1012          OLDER FAMILIES       Mainstream\n",
      "['YOUNG SINGLES/COUPLES' 'YOUNG FAMILIES' 'OLDER SINGLES/COUPLES'\n",
      " 'MIDAGE SINGLES/COUPLES' 'NEW FAMILIES' 'OLDER FAMILIES' 'RETIREES']\n",
      "['Premium' 'Mainstream' 'Budget']\n"
     ]
    }
   ],
   "source": [
    "print(purchase_behaviour_df.head(10))\n",
    "print(purchase_behaviour_df['LIFESTAGE'].unique())\n",
    "print(purchase_behaviour_df['PREMIUM_CUSTOMER'].unique())"
   ]
  },
  {
   "cell_type": "markdown",
   "metadata": {},
   "source": [
    "Okay so upon initial inspection, this seems reasonable. Let's check for nulls."
   ]
  },
  {
   "cell_type": "code",
   "execution_count": 76,
   "metadata": {},
   "outputs": [
    {
     "data": {
      "text/plain": [
       "False"
      ]
     },
     "execution_count": 76,
     "metadata": {},
     "output_type": "execute_result"
    }
   ],
   "source": [
    "purchase_behaviour_df.isnull().values.any()"
   ]
  },
  {
   "cell_type": "markdown",
   "metadata": {},
   "source": [
    "This means there are no null values in this dataframe. Let's make a histogram to see what the distribution\n",
    "of customer type is."
   ]
  },
  {
   "cell_type": "code",
   "execution_count": 78,
   "metadata": {},
   "outputs": [
    {
     "data": {
      "image/png": "[encoded data removed]",
      "text/plain": [
       "<Figure size 640x480 with 1 Axes>"
      ]
     },
     "metadata": {},
     "output_type": "display_data"
    }
   ],
   "source": [
    "purchase_behaviour_df['PREMIUM_CUSTOMER'].hist()\n",
    "plt.title('Number of members per membership type')\n",
    "plt.xlabel('Membership Type')\n",
    "plt.ylabel('Number of Members')\n",
    "plt.show()"
   ]
  }
 ],
 "metadata": {
  "kernelspec": {
   "display_name": "conda-torch",
   "language": "python",
   "name": "python3"
  },
  "language_info": {
   "codemirror_mode": {
    "name": "ipython",
    "version": 3
   },
   "file_extension": ".py",
   "mimetype": "text/x-python",
   "name": "python",
   "nbconvert_exporter": "python",
   "pygments_lexer": "ipython3",
   "version": "3.11.4"
  }
 },
 "nbformat": 4,
 "nbformat_minor": 2
}
